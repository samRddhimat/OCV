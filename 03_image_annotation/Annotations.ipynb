{
 "cells": [
  {
   "cell_type": "markdown",
   "id": "df6b25f6-734c-4f7a-ac8a-0727106d9f94",
   "metadata": {},
   "source": [
    "## <code style=\"background:red;color:white;\">Annotating Images</code> <br>\n",
    "For annotations to images like \n",
    "<ol>\n",
    "<li>Draw lines</li>\n",
    "<li>Draw circles</li>\n",
    "<li>Draw rectangles</li>\n",
    "<li>Add text</li></ol>\n",
    "Annotations can also be useful during development and debugging"
   ]
  },
  {
   "cell_type": "code",
   "execution_count": null,
   "id": "0a6a202b-9dbd-429a-8876-f83b2f804392",
   "metadata": {},
   "outputs": [],
   "source": [
    "# Import libraries\n",
    "import os\n",
    "import cv2\n",
    "import matplotlib\n",
    "import numpy as np\n",
    "import matplotlib.pyplot as mplt\n",
    "\n",
    "from zipfile import ZipFile\n",
    "from urllib.request import urlretrieve\n",
    "\n",
    "from IPython.display import display, HTML\n",
    "\n",
    "matplotlib.rcParams['figure.figsize'] = (9.0, 9.0)\n",
    "\n",
    "%matplotlib inline"
   ]
  },
  {
   "cell_type": "code",
   "execution_count": null,
   "id": "1f192597-1ca6-42e0-a622-bddc5e5ed16c",
   "metadata": {},
   "outputs": [],
   "source": [
    "image = cv2.imread(\"D:/Repository/OCV/03_Image_Annotation/Apollo_11_Launch.jpg\",cv2.IMREAD_COLOR)\n",
    "# print(type(image), image.shape, image[719][0],image[719][1],image[719][2],image[719][3])\n",
    "# print(\"\\n\",image[719][0:4])"
   ]
  },
  {
   "cell_type": "code",
   "execution_count": null,
   "id": "f4a35bad-83c4-4432-9cfb-dc85b4c5d3aa",
   "metadata": {},
   "outputs": [],
   "source": [
    "mplt.imshow(image[:,:,::-1])\n",
    "mplt.show()"
   ]
  },
  {
   "cell_type": "markdown",
   "id": "fc60652b-3cd9-4861-8e66-d029563622c9",
   "metadata": {},
   "source": [
    "## <code style=\"background:red;color:white;\">Line</code> <br>\n",
    "Required arguments are <b>img</b>,<b>pt1</b>,<b>pt2</b>,<b>color</b>\n",
    "\n",
    "<br/>\n",
    "<a href=\"https://docs.opencv.org/4.5.1/d6/d6e/group__imgproc__draw.html#ga7078a9fae8c7e7d13d24dac2520ae4a2\">Line()</a>"
   ]
  },
  {
   "cell_type": "code",
   "execution_count": null,
   "id": "2c93ebab-d94e-44fc-ae83-b4084fded85c",
   "metadata": {},
   "outputs": [],
   "source": [
    "imgLine = image.copy()\n",
    "cv2.line(imgLine,(400,100), (500,100),(0,255,255),5, cv2.LINE_AA) #cv2.LINE_AA)\n",
    "mplt.imshow(imgLine[:,:,::-1])\n",
    "mplt.show()"
   ]
  },
  {
   "cell_type": "markdown",
   "id": "330487d8-d018-47b2-82da-3e2a8bc3b901",
   "metadata": {},
   "source": [
    "## <code style=\"background:red;color:white;\">Circle</code> <br>\n",
    "Required arguments are \n",
    "<ul>\n",
    "    <li><code style=\"background:red;color:white;\">img:</code> Image on which we will draw a line</li>\n",
    "\n",
    "<li><code style=\"background:red;color:white;\">center</code>: Center of the circle</li>\n",
    "\n",
    "<li><code style=\"background:red;color:white;\">radius:</code> Radius of the circle</li>\n",
    "\n",
    "<li><code style=\"background:red;color:white;\">color:</code> Color of the circle which will be drawn</li>\n",
    "</ul> \n",
    "and optional arguments are\n",
    "\n",
    "<code style=\"background:green;color:white;\">thickness:</code>  Thickness of the circle outline (if positive). If a negative value is supplied for this argument, it will result in a filled circle.\n",
    "\n",
    "<code style=\"background:green;color:white;\">lineType:</code> Type of the circle boundary. This is exact same as lineType argument in cv2.line\n",
    "<br>\n",
    "<a href=\"https://docs.opencv.org/4.5.1/d6/d6e/group__imgproc__draw.html#gaf10604b069374903dbd0f0488cb43670\">Circle</a>"
   ]
  },
  {
   "cell_type": "code",
   "execution_count": null,
   "id": "95ba8672-205d-48cd-8a37-6eaef50c35ae",
   "metadata": {},
   "outputs": [],
   "source": [
    "imageCircle = image.copy()\n",
    "\n",
    "cv2.circle(imageCircle, (900,500), 100, (0, 0, 255), thickness=5, lineType=cv2.LINE_AA);\n",
    "# Display the image\n",
    "mplt.imshow(imageCircle[:,:,::-1])\n",
    "mplt.show()"
   ]
  },
  {
   "cell_type": "markdown",
   "id": "7ac96f5a-6e35-4ebd-8961-8d4169032729",
   "metadata": {},
   "source": [
    "## <code style=\"background:red;color:white;\">Circle</code> <br>\n",
    "Required arguments are \n",
    "<ol>\n",
    "<li><code style=\"background:red;color:white;\">img:</code>Image on which the rectangle is to be drawn.</li>\n",
    "\n",
    "<li><code style=\"background:red;color:white;\">pt1</code>: Vertex of the rectangle. Usually we use the top-left vertex here.\n",
    "\n",
    "<li><code style=\"background:red;color:white;\">pt2</code>: Vertex of the rectangle opposite to pt1. Usually we use the bottom-right vertex here.\n",
    "\n",
    "<li><code style=\"background:red;color:white;\">color:</code> Color of the rectangle which will be drawn</li> \n",
    "</ol>\n",
    "and optional arguments are\n",
    "\n",
    "<code style=\"background:green;color:white;\">thickness:</code>  Thickness of the circle outline (if positive). If a negative value is supplied for this argument, it will result in a filled circle.\n",
    "\n",
    "<code style=\"background:green;color:white;\">lineType:</code> Type of the circle boundary. This is exact same as lineType argument in cv2.line\n",
    "<br>\n",
    "<a href=\"https://docs.opencv.org/4.5.1/d6/d6e/group__imgproc__draw.html#ga07d2f74cadcf8e305e810ce8eed13bc9\">Rectangle</a>"
   ]
  },
  {
   "cell_type": "code",
   "execution_count": null,
   "id": "1f60897a-1336-4d09-b97f-e027d8a52c72",
   "metadata": {},
   "outputs": [],
   "source": [
    "# Draw a rectangle (thickness is a positive integer)\n",
    "imageRectangle = image.copy()\n",
    "\n",
    "cv2.rectangle(imageRectangle, (500, 100), (700, 600), (255, 0, 255), thickness=5, lineType=cv2.LINE_8)\n",
    "\n",
    "# Display the image\n",
    "mplt.imshow(imageRectangle[:, :, ::-1])\n",
    "mplt.show()"
   ]
  },
  {
   "cell_type": "markdown",
   "id": "0606c335-029f-469d-92c8-a3bfba3caf25",
   "metadata": {},
   "source": [
    "## <code style=\"background:red;color:white;\">Text</code> <br>\n",
    "Required arguments are \n",
    "<ol>\n",
    "<li><code style=\"background:red;color:white;\">img:</code>Image on which the text has to be written.</li>\n",
    "\n",
    "<li><code style=\"background:red;color:white;\">text</code>: Text string to be written.</li>\n",
    "\n",
    "<li><code style=\"background:red;color:white;\">org</code>:Bottom-left corner of the text string in the image.</li>\n",
    "<li><code style=\"background:red;color:white;\">fontFace:</code>Font type</li> \n",
    "<li><code style=\"background:red;color:white;\">fontScale:</code>Font scale factor that is multiplied by the font-specific font size.</li> \n",
    "<li><code style=\"background:red;color:white;\">color:</code> Font color - tuple datatype</li> \n",
    "</ol>\n",
    "and optional arguments are\n",
    "\n",
    "<code style=\"background:green;color:white;\">thickness:</code>  Thickness of the lines used to draw a text.\n",
    "\n",
    "<code style=\"background:green;color:white;\">lineType:</code> Type of the boundary. This is exact same as lineType argument in cv2.line\n",
    "\n",
    "<code style=\"background:green;color:white;\">bottomLeftOrigin:</code> When true, the image data origin is at the bottom-left corner. Otherwise, it is at the top-left corner.\n",
    "\n",
    "<br>\n",
    "<a href=\"https://docs.opencv.org/4.x/d6/d6e/group__imgproc__draw.html#ga5126f47f883d730f633d74f07456c576\">putText</a>"
   ]
  },
  {
   "cell_type": "code",
   "execution_count": null,
   "id": "2b8dfa72-877f-4cfc-836f-33913ec5a60c",
   "metadata": {},
   "outputs": [],
   "source": [
    "imageText = image.copy()\n",
    "text = \"Apollo 11 Saturn V Launch, July 16, 1969\"\n",
    "fontScale = 2.3\n",
    "fontFace = cv2.FONT_HERSHEY_PLAIN\n",
    "fontColor = (0, 255, 0)\n",
    "fontThickness = 2\n",
    "print(type(fontColor))\n",
    "cv2.putText(imageText, text, (200, 700), fontFace, fontScale, fontColor, fontThickness, cv2.LINE_AA);\n",
    "\n",
    "# Display the image\n",
    "mplt.imshow(imageText[:, :, ::-1])\n",
    "mplt.show()"
   ]
  }
 ],
 "metadata": {
  "kernelspec": {
   "display_name": "Python [conda env:base] *",
   "language": "python",
   "name": "conda-base-py"
  },
  "language_info": {
   "codemirror_mode": {
    "name": "ipython",
    "version": 3
   },
   "file_extension": ".py",
   "mimetype": "text/x-python",
   "name": "python",
   "nbconvert_exporter": "python",
   "pygments_lexer": "ipython3",
   "version": "3.12.7"
  }
 },
 "nbformat": 4,
 "nbformat_minor": 5
}
