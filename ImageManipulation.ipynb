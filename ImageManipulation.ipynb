{
 "cells": [
  {
   "cell_type": "markdown",
   "id": "d1304a23-f66e-4bd6-8569-26083cddcab2",
   "metadata": {},
   "source": [
    "# <code style=\"background:red;color:white\">Basic Image Manipulation</code>\n",
    "\n",
    "#### 1. Accessing and manipulating image pixels\n",
    "#### 2. Image resizing\n",
    "#### 3. Cropping\n",
    "#### 4. Flipping"
   ]
  },
  {
   "cell_type": "code",
   "execution_count": 10,
   "id": "b5e98d64-45bb-499d-97a3-435c6711b44b",
   "metadata": {},
   "outputs": [],
   "source": [
    "import cv2\n",
    "import numpy as np\n",
    "import matplotlib.pyplot as mplt\n",
    "%matplotlib inline\n",
    "from PIL import Image\n",
    "from IPython.display import Image\n"
   ]
  },
  {
   "cell_type": "code",
   "execution_count": 101,
   "id": "cbbf4704-3de8-44b5-8380-77342411d025",
   "metadata": {},
   "outputs": [
    {
     "data": {
      "image/png": "[encoded data removed]",
      "text/plain": [
       "<Figure size 640x480 with 1 Axes>"
      ]
     },
     "metadata": {},
     "output_type": "display_data"
    }
   ],
   "source": [
    "cb_img = cv2.imread(\"D:/Repository/OCV/checkers.png\",0)#cv2.IMREAD_GRAYSCALE)\n",
    "mplt.imshow(cb_img,cmap='gray')\n",
    "mplt.show()\n"
   ]
  },
  {
   "cell_type": "code",
   "execution_count": 103,
   "id": "2dfd64fd-27ca-49c5-bad0-7597d1a70fed",
   "metadata": {},
   "outputs": [
    {
     "name": "stdout",
     "output_type": "stream",
     "text": [
      "[[  0   0   0   2   0  39 252 255 254 254 255 239  21   0   1   0   0   0]\n",
      " [  0   0   0   2   0  39 252 255 254 254 255 239  21   0   1   0   0   0]\n",
      " [  0   0   0   2   0  39 252 255 254 254 255 239  21   0   1   0   0   0]\n",
      " [  2   2   2   4   2  40 250 253 252 252 253 237  23   2   3   2   2   2]\n",
      " [  0   0   0   0   0  33 255 255 255 255 255 247  13   0   0   0   0   0]\n",
      " [ 42  42  42  43  41  68 211 213 212 212 214 202  56  41  43  42  42  42]\n",
      " [254 254 254 252 254 215   4   1   2   2   1  17 233 254 253 254 254 254]\n",
      " [255 255 255 254 255 216   2   0   0   0   0  15 235 255 255 255 255 255]\n",
      " [254 254 254 252 254 216   4   1   2   2   1  16 234 254 253 254 254 254]\n",
      " [254 254 254 252 254 215   4   1   2   2   1  17 233 254 253 254 254 254]\n",
      " [255 255 255 255 255 220   0   0   0   0   0  12 238 255 255 255 255 255]\n",
      " [234 234 234 232 234 201  24  21  22  22  21  35 216 234 233 234 234 234]\n",
      " [ 16  16  16  18  16  50 236 239 238 238 239 225  35  16  17  16  16  16]\n",
      " [  0   0   0   0   0  36 255 255 255 255 255 243  18   0   0   0   0   0]\n",
      " [  1   1   1   3   1  40 251 254 253 253 254 238  22   1   2   1   1   1]\n",
      " [  0   0   0   2   0  39 252 255 254 254 255 239  21   0   1   0   0   0]\n",
      " [  0   0   0   2   0  39 252 255 254 254 255 239  21   0   1   0   0   0]\n",
      " [  0   0   0   2   0  39 252 255 254 254 255 239  21   0   1   0   0   0]]\n"
     ]
    }
   ],
   "source": [
    "print(cb_img)"
   ]
  },
  {
   "cell_type": "markdown",
   "id": "60fe4737-61ff-4e35-9ff3-d436adbb4873",
   "metadata": {},
   "source": [
    "### Accessing Individual Pixels\n",
    "\n",
    "##### Use matrix[r,c], where r is row and c is column number. Matrix starts with 0 index.\n"
   ]
  },
  {
   "cell_type": "code",
   "execution_count": 125,
   "id": "8b3907ea-0ca4-4507-ab10-088c07a262ec",
   "metadata": {},
   "outputs": [
    {
     "name": "stdout",
     "output_type": "stream",
     "text": [
      "0 255\n"
     ]
    }
   ],
   "source": [
    "#print the first pixel of the first box\n",
    "print(cb_img[0,0], cb_img[0,10])"
   ]
  }
 ],
 "metadata": {
  "kernelspec": {
   "display_name": "Python [conda env:base] *",
   "language": "python",
   "name": "conda-base-py"
  },
  "language_info": {
   "codemirror_mode": {
    "name": "ipython",
    "version": 3
   },
   "file_extension": ".py",
   "mimetype": "text/x-python",
   "name": "python",
   "nbconvert_exporter": "python",
   "pygments_lexer": "ipython3",
   "version": "3.12.7"
  }
 },
 "nbformat": 4,
 "nbformat_minor": 5
}
